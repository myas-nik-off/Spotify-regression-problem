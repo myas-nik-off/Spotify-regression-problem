{
  "cells": [
    {
      "attachments": {},
      "cell_type": "markdown",
      "metadata": {
        "id": "B0je-D5QNFvT"
      },
      "source": [
        "# Regression Problem\n",
        "\n",
        "## General Report\n",
        "After trying many models and feature manipulations, XGBoost with some simple data processing gave us the best results. Many of the issues we faced can be attributed to the given data set - especially in terms of the instance to feature ratio, which made getting accurate results difficult as models have few samples to learn from, as well as many features that introduce noise.\n",
        "\n",
        "Tree based models, and especially boosted trees, were favoured as they are relatively robust when tackling small, noisy datasets. \n",
        "\n",
        "Linear models did not perform as badly as we had assumed (seeing only some linear relationships in the data), especially when modified with kernels and polynomial features. In the final analysis, however, they exhibited too much bias to outperform XGBoost, which exhibited variance but gave better results on the testing set. Even with transformations and removal, skewed distributions and high presence of outliers strongly affected distance based algorithms. Again, likely because the data set was small and any loss of information was detrimental.\n",
        "\n",
        "Probabilistic models such as Naive Bayes, however, gave us bad results throughout - likely because of many dependant features such as 'acous' and 'nrgy'. Removing features, however, hurt the performance of most models, likely because the lack of instances meant relying on preserving as much of the variance in the data as possible.\n",
        "\n",
        "In the end, ensemble methods delivered the best results because they combine the power of multiple algorithms which manage to fit well to complex data that exhibits a lot of variance. Boosted Trees in particular, with their repeated iterations of random forests that fit to each other's residuals made for the most robust model out of what was attempted. The fact that the random forests are made with random subsets of features also contributed to their ease of use, as iterations with promising randomly selected feature combinations guided the model's construction.\n",
        "\n",
        "Here are some things that were attempted but did not give good enough results:\n",
        "\n",
        "Data\n",
        "\n",
        "- bucketing continuous features like 'year' into 'decades'\n",
        "- making ordinal feature out of song rankings in order of popularity \n",
        "- removing highly correlated features\n",
        "- different kinds of encoding (especially one-hot)\n",
        "\n",
        "Model configuration\n",
        "- many ensemble methods such as stacking more boosted trees, as well as models from other families\n",
        "- taking differently weighted mean predictions of different models\n",
        "- manipulating regularisation hyperparameters such as 'max_depth'\n",
        "- Using hyperparameter tuning techniques such as GridSearch (took too long)\n"
      ]
    },
    {
      "cell_type": "code",
      "execution_count": 220,
      "metadata": {
        "id": "668PCCs5skaW"
      },
      "outputs": [],
      "source": [
        "current_best_score = 6.71"
      ]
    },
    {
      "cell_type": "code",
      "execution_count": 5,
      "metadata": {
        "id": "B3a75_iRMq7q"
      },
      "outputs": [],
      "source": [
        "#importing libraries \n",
        "\n",
        "#basic libraries\n",
        "import numpy as np\n",
        "import matplotlib.pyplot as plt\n",
        "import pandas as pd\n",
        "import copy\n",
        "\n",
        "#plotting libraries\n",
        "import matplotlib\n",
        "%matplotlib inline\n",
        "from matplotlib.pyplot import figure\n",
        "import seaborn as sns"
      ]
    },
    {
      "cell_type": "markdown",
      "metadata": {
        "id": "thokCZ90OrhH"
      },
      "source": [
        "## Exploring the Data"
      ]
    },
    {
      "cell_type": "code",
      "execution_count": 6,
      "metadata": {
        "id": "xx9-opwhOU3G"
      },
      "outputs": [],
      "source": [
        "#loading data\n",
        "r_data = pd.read_csv('CS98XRegressionTrain.csv')\n",
        "r_data_test = pd.read_csv('CS98XRegressionTest.csv')"
      ]
    },
    {
      "cell_type": "code",
      "execution_count": 7,
      "metadata": {
        "colab": {
          "base_uri": "https://localhost:8080/"
        },
        "id": "nL7xSeI0OtyW",
        "outputId": "0faca2ca-ff32-4d0b-8653-162028048c54"
      },
      "outputs": [
        {
          "name": "stdout",
          "output_type": "stream",
          "text": [
            "We have 15 columns and 453 rows in our regression training dataframe.\n",
            "\n",
            "Some general information about the dataframe: \n",
            "<class 'pandas.core.frame.DataFrame'>\n",
            "RangeIndex: 453 entries, 0 to 452\n",
            "Data columns (total 15 columns):\n",
            " #   Column     Non-Null Count  Dtype \n",
            "---  ------     --------------  ----- \n",
            " 0   Id         453 non-null    int64 \n",
            " 1   title      453 non-null    object\n",
            " 2   artist     453 non-null    object\n",
            " 3   top genre  438 non-null    object\n",
            " 4   year       453 non-null    int64 \n",
            " 5   bpm        453 non-null    int64 \n",
            " 6   nrgy       453 non-null    int64 \n",
            " 7   dnce       453 non-null    int64 \n",
            " 8   dB         453 non-null    int64 \n",
            " 9   live       453 non-null    int64 \n",
            " 10  val        453 non-null    int64 \n",
            " 11  dur        453 non-null    int64 \n",
            " 12  acous      453 non-null    int64 \n",
            " 13  spch       453 non-null    int64 \n",
            " 14  pop        453 non-null    int64 \n",
            "dtypes: int64(12), object(3)\n",
            "memory usage: 53.2+ KB\n"
          ]
        }
      ],
      "source": [
        "#looking at rows/columns \n",
        "column_names = [x for x in r_data.columns]\n",
        "\n",
        "r_columns = len(r_data.columns)\n",
        "r_rows = len(r_data)\n",
        "\n",
        "print('We have {} columns and {} rows in our regression training dataframe.'.format(r_columns, r_rows))\n",
        "\n",
        "#Looking at general information\n",
        "print('\\nSome general information about the dataframe: ')\n",
        "training_dataframe_info = r_data.info()"
      ]
    },
    {
      "cell_type": "markdown",
      "metadata": {
        "id": "zYpqmJ2MQFxu"
      },
      "source": [
        "The Non-Null count for 'top genre' is lower than the other columns, so we will have to deal with missing values there.\n",
        "\n",
        "Our first observation is that there is a high ratio of features to instances - we also don't have many instances to learn from in the first place. We may need to think about models that work well with low amounts of higher-dimensional data, and about being selective with features we want to use.\n"
      ]
    },
    {
      "cell_type": "code",
      "execution_count": 8,
      "metadata": {
        "colab": {
          "base_uri": "https://localhost:8080/"
        },
        "id": "UQLKdlpTOxlQ",
        "outputId": "1d8c3896-ae88-450d-ff7f-c4ad8017e0c7"
      },
      "outputs": [
        {
          "name": "stdout",
          "output_type": "stream",
          "text": [
            "We have 453 rows in the training sets.\n",
            "\n",
            "We have 114 rows in the testing sets.\n",
            "\n",
            "The train/test split is about 79.89%/20.11%\n"
          ]
        }
      ],
      "source": [
        "#Looking at the train/test split\n",
        "print('We have {} rows in the training sets.\\n'.format(len(r_data)))\n",
        "print('We have {} rows in the testing sets.\\n'.format(len(r_data_test)))\n",
        "data_total = r_rows + len(r_data_test)\n",
        "train_split = (r_rows/data_total)*100\n",
        "test_split = (100 - train_split)\n",
        "\n",
        "print('The train/test split is about {:.2f}%/{:.2f}%'.format(train_split, test_split))"
      ]
    },
    {
      "cell_type": "markdown",
      "metadata": {
        "id": "OYE-wKghRBJL"
      },
      "source": [
        "## Missing Data/Values"
      ]
    },
    {
      "cell_type": "code",
      "execution_count": 9,
      "metadata": {
        "colab": {
          "base_uri": "https://localhost:8080/"
        },
        "id": "p-At7TkjPNPs",
        "outputId": "70979fc0-3350-43bb-848a-f6f09be476c8"
      },
      "outputs": [
        {
          "name": "stdout",
          "output_type": "stream",
          "text": [
            "Are there only missing \"top genre\" values? True\n",
            "We have 15 values missing from the training data.\n"
          ]
        }
      ],
      "source": [
        "#looking for how many values are missing, as well as which columns have the NaNs\n",
        "n_missing = r_data.isnull().sum().sum()\n",
        "genre_missing = r_data['top genre'].isnull().sum().sum()\n",
        "\n",
        "print('Are there only missing \"top genre\" values?',genre_missing == n_missing)\n",
        "\n",
        "print('We have {} values missing from the training data.'.format(n_missing))"
      ]
    },
    {
      "cell_type": "code",
      "execution_count": 10,
      "metadata": {
        "colab": {
          "base_uri": "https://localhost:8080/",
          "height": 520
        },
        "id": "S7SXXKx_RXop",
        "outputId": "b8fa9c52-db00-47f5-cf59-a6e6449ff8c8"
      },
      "outputs": [
        {
          "data": {
            "text/html": [
              "\n",
              "  <div id=\"df-77fbfb3d-7279-48be-a34e-8b99f2ce54a4\">\n",
              "    <div class=\"colab-df-container\">\n",
              "      <div>\n",
              "<style scoped>\n",
              "    .dataframe tbody tr th:only-of-type {\n",
              "        vertical-align: middle;\n",
              "    }\n",
              "\n",
              "    .dataframe tbody tr th {\n",
              "        vertical-align: top;\n",
              "    }\n",
              "\n",
              "    .dataframe thead th {\n",
              "        text-align: right;\n",
              "    }\n",
              "</style>\n",
              "<table border=\"1\" class=\"dataframe\">\n",
              "  <thead>\n",
              "    <tr style=\"text-align: right;\">\n",
              "      <th></th>\n",
              "      <th>Id</th>\n",
              "      <th>title</th>\n",
              "      <th>artist</th>\n",
              "      <th>top genre</th>\n",
              "      <th>year</th>\n",
              "      <th>bpm</th>\n",
              "      <th>nrgy</th>\n",
              "      <th>dnce</th>\n",
              "      <th>dB</th>\n",
              "      <th>live</th>\n",
              "      <th>val</th>\n",
              "      <th>dur</th>\n",
              "      <th>acous</th>\n",
              "      <th>spch</th>\n",
              "      <th>pop</th>\n",
              "    </tr>\n",
              "  </thead>\n",
              "  <tbody>\n",
              "    <tr>\n",
              "      <th>1</th>\n",
              "      <td>2</td>\n",
              "      <td>Unchained Melody</td>\n",
              "      <td>The Teddy Bears</td>\n",
              "      <td>NaN</td>\n",
              "      <td>2011</td>\n",
              "      <td>114</td>\n",
              "      <td>44</td>\n",
              "      <td>53</td>\n",
              "      <td>-8</td>\n",
              "      <td>13</td>\n",
              "      <td>47</td>\n",
              "      <td>139</td>\n",
              "      <td>49</td>\n",
              "      <td>3</td>\n",
              "      <td>37</td>\n",
              "    </tr>\n",
              "    <tr>\n",
              "      <th>8</th>\n",
              "      <td>9</td>\n",
              "      <td>Someone Elses Roses</td>\n",
              "      <td>Joan Regan</td>\n",
              "      <td>NaN</td>\n",
              "      <td>2019</td>\n",
              "      <td>100</td>\n",
              "      <td>14</td>\n",
              "      <td>29</td>\n",
              "      <td>-10</td>\n",
              "      <td>15</td>\n",
              "      <td>32</td>\n",
              "      <td>143</td>\n",
              "      <td>89</td>\n",
              "      <td>3</td>\n",
              "      <td>34</td>\n",
              "    </tr>\n",
              "    <tr>\n",
              "      <th>26</th>\n",
              "      <td>27</td>\n",
              "      <td>Drinks On The House</td>\n",
              "      <td>Green Martini Keys</td>\n",
              "      <td>NaN</td>\n",
              "      <td>2016</td>\n",
              "      <td>97</td>\n",
              "      <td>16</td>\n",
              "      <td>57</td>\n",
              "      <td>-16</td>\n",
              "      <td>11</td>\n",
              "      <td>15</td>\n",
              "      <td>181</td>\n",
              "      <td>100</td>\n",
              "      <td>5</td>\n",
              "      <td>28</td>\n",
              "    </tr>\n",
              "    <tr>\n",
              "      <th>72</th>\n",
              "      <td>73</td>\n",
              "      <td>Pachuko Hop</td>\n",
              "      <td>Ike Carpenter Orchestra</td>\n",
              "      <td>NaN</td>\n",
              "      <td>2006</td>\n",
              "      <td>83</td>\n",
              "      <td>53</td>\n",
              "      <td>48</td>\n",
              "      <td>-9</td>\n",
              "      <td>34</td>\n",
              "      <td>80</td>\n",
              "      <td>135</td>\n",
              "      <td>59</td>\n",
              "      <td>3</td>\n",
              "      <td>28</td>\n",
              "    </tr>\n",
              "    <tr>\n",
              "      <th>90</th>\n",
              "      <td>91</td>\n",
              "      <td>Little Things Means A Lot</td>\n",
              "      <td>Jayne Mansfield</td>\n",
              "      <td>NaN</td>\n",
              "      <td>2008</td>\n",
              "      <td>109</td>\n",
              "      <td>29</td>\n",
              "      <td>70</td>\n",
              "      <td>-15</td>\n",
              "      <td>16</td>\n",
              "      <td>63</td>\n",
              "      <td>172</td>\n",
              "      <td>36</td>\n",
              "      <td>4</td>\n",
              "      <td>29</td>\n",
              "    </tr>\n",
              "    <tr>\n",
              "      <th>98</th>\n",
              "      <td>99</td>\n",
              "      <td>The Lady Is A Tramp</td>\n",
              "      <td>Mel Torme &amp; the Mel-Tones</td>\n",
              "      <td>NaN</td>\n",
              "      <td>2016</td>\n",
              "      <td>138</td>\n",
              "      <td>60</td>\n",
              "      <td>41</td>\n",
              "      <td>-8</td>\n",
              "      <td>41</td>\n",
              "      <td>54</td>\n",
              "      <td>170</td>\n",
              "      <td>81</td>\n",
              "      <td>6</td>\n",
              "      <td>40</td>\n",
              "    </tr>\n",
              "    <tr>\n",
              "      <th>220</th>\n",
              "      <td>221</td>\n",
              "      <td>If I Give My Heart To You</td>\n",
              "      <td>The Teddy Bears</td>\n",
              "      <td>NaN</td>\n",
              "      <td>2011</td>\n",
              "      <td>113</td>\n",
              "      <td>29</td>\n",
              "      <td>49</td>\n",
              "      <td>-10</td>\n",
              "      <td>12</td>\n",
              "      <td>29</td>\n",
              "      <td>118</td>\n",
              "      <td>86</td>\n",
              "      <td>3</td>\n",
              "      <td>40</td>\n",
              "    </tr>\n",
              "    <tr>\n",
              "      <th>252</th>\n",
              "      <td>253</td>\n",
              "      <td>Happy Days And Lonely Nights</td>\n",
              "      <td>Suzi Miller And Johnson Brothers</td>\n",
              "      <td>NaN</td>\n",
              "      <td>2012</td>\n",
              "      <td>142</td>\n",
              "      <td>38</td>\n",
              "      <td>65</td>\n",
              "      <td>-8</td>\n",
              "      <td>13</td>\n",
              "      <td>69</td>\n",
              "      <td>146</td>\n",
              "      <td>43</td>\n",
              "      <td>3</td>\n",
              "      <td>27</td>\n",
              "    </tr>\n",
              "    <tr>\n",
              "      <th>265</th>\n",
              "      <td>266</td>\n",
              "      <td>Stairway Of Love</td>\n",
              "      <td>Terry Dene</td>\n",
              "      <td>NaN</td>\n",
              "      <td>2015</td>\n",
              "      <td>93</td>\n",
              "      <td>62</td>\n",
              "      <td>62</td>\n",
              "      <td>-7</td>\n",
              "      <td>25</td>\n",
              "      <td>86</td>\n",
              "      <td>120</td>\n",
              "      <td>55</td>\n",
              "      <td>4</td>\n",
              "      <td>27</td>\n",
              "    </tr>\n",
              "    <tr>\n",
              "      <th>266</th>\n",
              "      <td>267</td>\n",
              "      <td>You</td>\n",
              "      <td>Ten Sharp</td>\n",
              "      <td>NaN</td>\n",
              "      <td>1991</td>\n",
              "      <td>174</td>\n",
              "      <td>90</td>\n",
              "      <td>41</td>\n",
              "      <td>-8</td>\n",
              "      <td>19</td>\n",
              "      <td>67</td>\n",
              "      <td>273</td>\n",
              "      <td>43</td>\n",
              "      <td>3</td>\n",
              "      <td>61</td>\n",
              "    </tr>\n",
              "    <tr>\n",
              "      <th>314</th>\n",
              "      <td>315</td>\n",
              "      <td>No Other Love</td>\n",
              "      <td>Bob Sharples &amp; His Music</td>\n",
              "      <td>NaN</td>\n",
              "      <td>2014</td>\n",
              "      <td>97</td>\n",
              "      <td>31</td>\n",
              "      <td>37</td>\n",
              "      <td>-10</td>\n",
              "      <td>27</td>\n",
              "      <td>10</td>\n",
              "      <td>171</td>\n",
              "      <td>69</td>\n",
              "      <td>3</td>\n",
              "      <td>31</td>\n",
              "    </tr>\n",
              "    <tr>\n",
              "      <th>330</th>\n",
              "      <td>331</td>\n",
              "      <td>I've Waited So Long</td>\n",
              "      <td>Anthony Newley</td>\n",
              "      <td>NaN</td>\n",
              "      <td>2012</td>\n",
              "      <td>137</td>\n",
              "      <td>36</td>\n",
              "      <td>27</td>\n",
              "      <td>-15</td>\n",
              "      <td>25</td>\n",
              "      <td>28</td>\n",
              "      <td>165</td>\n",
              "      <td>64</td>\n",
              "      <td>4</td>\n",
              "      <td>26</td>\n",
              "    </tr>\n",
              "    <tr>\n",
              "      <th>362</th>\n",
              "      <td>363</td>\n",
              "      <td>Hot Diggity</td>\n",
              "      <td>Stargazers</td>\n",
              "      <td>NaN</td>\n",
              "      <td>2001</td>\n",
              "      <td>109</td>\n",
              "      <td>64</td>\n",
              "      <td>88</td>\n",
              "      <td>-9</td>\n",
              "      <td>60</td>\n",
              "      <td>96</td>\n",
              "      <td>134</td>\n",
              "      <td>61</td>\n",
              "      <td>11</td>\n",
              "      <td>31</td>\n",
              "    </tr>\n",
              "    <tr>\n",
              "      <th>380</th>\n",
              "      <td>381</td>\n",
              "      <td>Ain't That Just the Way</td>\n",
              "      <td>Lutricia McNeal</td>\n",
              "      <td>NaN</td>\n",
              "      <td>1996</td>\n",
              "      <td>174</td>\n",
              "      <td>65</td>\n",
              "      <td>74</td>\n",
              "      <td>-9</td>\n",
              "      <td>19</td>\n",
              "      <td>77</td>\n",
              "      <td>215</td>\n",
              "      <td>6</td>\n",
              "      <td>22</td>\n",
              "      <td>55</td>\n",
              "    </tr>\n",
              "    <tr>\n",
              "      <th>443</th>\n",
              "      <td>444</td>\n",
              "      <td>I Promised Myself</td>\n",
              "      <td>Nick Kamen</td>\n",
              "      <td>NaN</td>\n",
              "      <td>1990</td>\n",
              "      <td>128</td>\n",
              "      <td>80</td>\n",
              "      <td>58</td>\n",
              "      <td>-12</td>\n",
              "      <td>3</td>\n",
              "      <td>69</td>\n",
              "      <td>241</td>\n",
              "      <td>0</td>\n",
              "      <td>3</td>\n",
              "      <td>61</td>\n",
              "    </tr>\n",
              "  </tbody>\n",
              "</table>\n",
              "</div>\n",
              "      <button class=\"colab-df-convert\" onclick=\"convertToInteractive('df-77fbfb3d-7279-48be-a34e-8b99f2ce54a4')\"\n",
              "              title=\"Convert this dataframe to an interactive table.\"\n",
              "              style=\"display:none;\">\n",
              "        \n",
              "  <svg xmlns=\"http://www.w3.org/2000/svg\" height=\"24px\"viewBox=\"0 0 24 24\"\n",
              "       width=\"24px\">\n",
              "    <path d=\"M0 0h24v24H0V0z\" fill=\"none\"/>\n",
              "    <path d=\"M18.56 5.44l.94 2.06.94-2.06 2.06-.94-2.06-.94-.94-2.06-.94 2.06-2.06.94zm-11 1L8.5 8.5l.94-2.06 2.06-.94-2.06-.94L8.5 2.5l-.94 2.06-2.06.94zm10 10l.94 2.06.94-2.06 2.06-.94-2.06-.94-.94-2.06-.94 2.06-2.06.94z\"/><path d=\"M17.41 7.96l-1.37-1.37c-.4-.4-.92-.59-1.43-.59-.52 0-1.04.2-1.43.59L10.3 9.45l-7.72 7.72c-.78.78-.78 2.05 0 2.83L4 21.41c.39.39.9.59 1.41.59.51 0 1.02-.2 1.41-.59l7.78-7.78 2.81-2.81c.8-.78.8-2.07 0-2.86zM5.41 20L4 18.59l7.72-7.72 1.47 1.35L5.41 20z\"/>\n",
              "  </svg>\n",
              "      </button>\n",
              "      \n",
              "  <style>\n",
              "    .colab-df-container {\n",
              "      display:flex;\n",
              "      flex-wrap:wrap;\n",
              "      gap: 12px;\n",
              "    }\n",
              "\n",
              "    .colab-df-convert {\n",
              "      background-color: #E8F0FE;\n",
              "      border: none;\n",
              "      border-radius: 50%;\n",
              "      cursor: pointer;\n",
              "      display: none;\n",
              "      fill: #1967D2;\n",
              "      height: 32px;\n",
              "      padding: 0 0 0 0;\n",
              "      width: 32px;\n",
              "    }\n",
              "\n",
              "    .colab-df-convert:hover {\n",
              "      background-color: #E2EBFA;\n",
              "      box-shadow: 0px 1px 2px rgba(60, 64, 67, 0.3), 0px 1px 3px 1px rgba(60, 64, 67, 0.15);\n",
              "      fill: #174EA6;\n",
              "    }\n",
              "\n",
              "    [theme=dark] .colab-df-convert {\n",
              "      background-color: #3B4455;\n",
              "      fill: #D2E3FC;\n",
              "    }\n",
              "\n",
              "    [theme=dark] .colab-df-convert:hover {\n",
              "      background-color: #434B5C;\n",
              "      box-shadow: 0px 1px 3px 1px rgba(0, 0, 0, 0.15);\n",
              "      filter: drop-shadow(0px 1px 2px rgba(0, 0, 0, 0.3));\n",
              "      fill: #FFFFFF;\n",
              "    }\n",
              "  </style>\n",
              "\n",
              "      <script>\n",
              "        const buttonEl =\n",
              "          document.querySelector('#df-77fbfb3d-7279-48be-a34e-8b99f2ce54a4 button.colab-df-convert');\n",
              "        buttonEl.style.display =\n",
              "          google.colab.kernel.accessAllowed ? 'block' : 'none';\n",
              "\n",
              "        async function convertToInteractive(key) {\n",
              "          const element = document.querySelector('#df-77fbfb3d-7279-48be-a34e-8b99f2ce54a4');\n",
              "          const dataTable =\n",
              "            await google.colab.kernel.invokeFunction('convertToInteractive',\n",
              "                                                     [key], {});\n",
              "          if (!dataTable) return;\n",
              "\n",
              "          const docLinkHtml = 'Like what you see? Visit the ' +\n",
              "            '<a target=\"_blank\" href=https://colab.research.google.com/notebooks/data_table.ipynb>data table notebook</a>'\n",
              "            + ' to learn more about interactive tables.';\n",
              "          element.innerHTML = '';\n",
              "          dataTable['output_type'] = 'display_data';\n",
              "          await google.colab.output.renderOutput(dataTable, element);\n",
              "          const docLink = document.createElement('div');\n",
              "          docLink.innerHTML = docLinkHtml;\n",
              "          element.appendChild(docLink);\n",
              "        }\n",
              "      </script>\n",
              "    </div>\n",
              "  </div>\n",
              "  "
            ],
            "text/plain": [
              "      Id                         title                            artist  \\\n",
              "1      2              Unchained Melody                   The Teddy Bears   \n",
              "8      9           Someone Elses Roses                        Joan Regan   \n",
              "26    27           Drinks On The House                Green Martini Keys   \n",
              "72    73                   Pachuko Hop           Ike Carpenter Orchestra   \n",
              "90    91     Little Things Means A Lot                   Jayne Mansfield   \n",
              "98    99           The Lady Is A Tramp         Mel Torme & the Mel-Tones   \n",
              "220  221     If I Give My Heart To You                   The Teddy Bears   \n",
              "252  253  Happy Days And Lonely Nights  Suzi Miller And Johnson Brothers   \n",
              "265  266              Stairway Of Love                        Terry Dene   \n",
              "266  267                           You                         Ten Sharp   \n",
              "314  315                 No Other Love          Bob Sharples & His Music   \n",
              "330  331           I've Waited So Long                    Anthony Newley   \n",
              "362  363                   Hot Diggity                        Stargazers   \n",
              "380  381       Ain't That Just the Way                   Lutricia McNeal   \n",
              "443  444             I Promised Myself                        Nick Kamen   \n",
              "\n",
              "    top genre  year  bpm  nrgy  dnce  dB  live  val  dur  acous  spch  pop  \n",
              "1         NaN  2011  114    44    53  -8    13   47  139     49     3   37  \n",
              "8         NaN  2019  100    14    29 -10    15   32  143     89     3   34  \n",
              "26        NaN  2016   97    16    57 -16    11   15  181    100     5   28  \n",
              "72        NaN  2006   83    53    48  -9    34   80  135     59     3   28  \n",
              "90        NaN  2008  109    29    70 -15    16   63  172     36     4   29  \n",
              "98        NaN  2016  138    60    41  -8    41   54  170     81     6   40  \n",
              "220       NaN  2011  113    29    49 -10    12   29  118     86     3   40  \n",
              "252       NaN  2012  142    38    65  -8    13   69  146     43     3   27  \n",
              "265       NaN  2015   93    62    62  -7    25   86  120     55     4   27  \n",
              "266       NaN  1991  174    90    41  -8    19   67  273     43     3   61  \n",
              "314       NaN  2014   97    31    37 -10    27   10  171     69     3   31  \n",
              "330       NaN  2012  137    36    27 -15    25   28  165     64     4   26  \n",
              "362       NaN  2001  109    64    88  -9    60   96  134     61    11   31  \n",
              "380       NaN  1996  174    65    74  -9    19   77  215      6    22   55  \n",
              "443       NaN  1990  128    80    58 -12     3   69  241      0     3   61  "
            ]
          },
          "execution_count": 10,
          "metadata": {},
          "output_type": "execute_result"
        }
      ],
      "source": [
        "#let's look at those rows closely\n",
        "missing_genres = r_data.loc[r_data['top genre'].isnull() == True]\n",
        "missing_genres"
      ]
    },
    {
      "cell_type": "markdown",
      "metadata": {
        "id": "2nXlA9sDTxeB"
      },
      "source": [
        "NaN value rows were dropped for higher final model accuracy.\n"
      ]
    },
    {
      "cell_type": "code",
      "execution_count": 11,
      "metadata": {
        "colab": {
          "base_uri": "https://localhost:8080/"
        },
        "id": "QZK838l3Tq_l",
        "outputId": "1d3063c6-404f-4648-baf7-fe2daab605ff"
      },
      "outputs": [
        {
          "name": "stdout",
          "output_type": "stream",
          "text": [
            "The number of rows is now:  438\n"
          ]
        }
      ],
      "source": [
        "#dropping missing values\n",
        "r_data.drop(r_data[r_data['top genre'].isnull() == True].index, inplace = True)\n",
        "\n",
        "print('The number of rows is now: ', len(r_data))"
      ]
    },
    {
      "cell_type": "markdown",
      "metadata": {
        "id": "XEJGYaTVX_6S"
      },
      "source": [
        "## Exploratory Data Analysis\n",
        "\n",
        "We decided to focus on analysis that shows major overviews of features first, so that we would know what to focus on. \n"
      ]
    },
    {
      "cell_type": "code",
      "execution_count": 12,
      "metadata": {
        "colab": {
          "base_uri": "https://localhost:8080/",
          "height": 1000
        },
        "id": "LTutDEzRVAwF",
        "outputId": "ecfa7f14-2aac-4904-c86e-64265f7036e1"
      },
      "outputs": [
        {
          "name": "stderr",
          "output_type": "stream",
          "text": [
            "<ipython-input-12-7f2ca3363d6e>:4: UserWarning: To output multiple subplots, the figure containing the passed axes is being cleared\n",
            "  r_data.hist(ax = ax, bins = 10)\n"
          ]
        },
        {
          "data": {
            "image/png": "[encoded data removed]",
            "text/plain": [
              "<Figure size 1080x1440 with 12 Axes>"
            ]
          },
          "metadata": {
            "needs_background": "light"
          },
          "output_type": "display_data"
        }
      ],
      "source": [
        "#plotting histograms of the continuous features\n",
        "fig = plt.figure(figsize = (15,20))\n",
        "ax = fig.gca()\n",
        "r_data.hist(ax = ax, bins = 10)\n",
        "fig.show()"
      ]
    },
    {
      "cell_type": "markdown",
      "metadata": {
        "id": "vBqIUeISh12g"
      },
      "source": [
        "- 'bpm', 'nrgy', 'dnce', 'dB', 'dur' and 'pop' seem to have fairly normal distributions, but some are more skewed than others. The left skew of 'pop' is particularly important, as this is our target variable. \n",
        "\n",
        "- Many of the other features have a lot of skewness, like 'live' and 'spch'.\n",
        "\n",
        "- Much of the data is in different scales as well(especially dB) \n",
        "\n",
        "All this means that we should think about transformation methods if using regression based models sensitive to uneven distributions (linear/logistic reg) and scaling methods for models that are sensitive to scale (like SVMs). This is part of why we used Decision-tree based algorithms in the end, which are much less sensitive to these types of variation in the data.\n",
        "\n",
        "## Continuous feature correlation heatmap"
      ]
    },
    {
      "cell_type": "code",
      "execution_count": 13,
      "metadata": {
        "colab": {
          "base_uri": "https://localhost:8080/",
          "height": 584
        },
        "id": "9vH9serfhEJc",
        "outputId": "dcbcaa1b-0fda-491d-8099-0670d32f5be1"
      },
      "outputs": [
        {
          "data": {
            "image/png": "[encoded data removed]",
            "text/plain": [
              "<Figure size 720x720 with 2 Axes>"
            ]
          },
          "metadata": {
            "needs_background": "light"
          },
          "output_type": "display_data"
        }
      ],
      "source": [
        "#dropping categorical/textual data\n",
        "continuous_features = r_data.drop(['Id', 'title', 'artist', 'top genre'],inplace = False,axis = 'columns',)\n",
        "continuous_features.head()\n",
        "\n",
        "#plotting heatmap of correlation matrix \n",
        "fig, ax_hm = plt.subplots(figsize=(10, 10))\n",
        "ax_heatmap = sns.heatmap(continuous_features.corr(), cmap = 'RdBu', vmin = -1, vmax = 1, square = True, ax = ax_hm)\n",
        "ax_heatmap.set(xlabel = '', ylabel = '')\n",
        "ax_heatmap.xaxis.tick_top()"
      ]
    },
    {
      "attachments": {},
      "cell_type": "markdown",
      "metadata": {
        "id": "ji5tK7OGoVZk"
      },
      "source": [
        "Positive Correlations\n",
        "- valence and danceability\n",
        "- valence and energy\n",
        "- dB and energy\n",
        "\n",
        "Negative Correlations\n",
        "- acousticness and energy\n",
        "- acousticness and dB\n",
        "\n",
        "### **Popularity Score**\n",
        "- small positive with energy, danceability, dB, duration, speechiness\n",
        "- medium negative with acousticness\n",
        "- little to no correlation at all with valence, live, bpm or year\n",
        "\n",
        "It seems like popular songs are:\n",
        "- less acoustic \n",
        "- longer duration\n",
        "- louder"
      ]
    },
    {
      "cell_type": "code",
      "execution_count": 14,
      "metadata": {
        "colab": {
          "base_uri": "https://localhost:8080/",
          "height": 315
        },
        "id": "MGAdlxhVoLW2",
        "outputId": "9631bd77-c8be-4209-efb2-5c4baee55bc2"
      },
      "outputs": [
        {
          "name": "stdout",
          "output_type": "stream",
          "text": [
            "There is a clear inverse linear relationship between \"nrgy\" and \"acous\":\n",
            "\n"
          ]
        },
        {
          "data": {
            "image/png": "[encoded data removed]",
            "text/plain": [
              "<Figure size 432x288 with 1 Axes>"
            ]
          },
          "metadata": {
            "needs_background": "light"
          },
          "output_type": "display_data"
        }
      ],
      "source": [
        "#Plotting 'nrgy' with 'acous'\n",
        "sns.scatterplot(data=r_data,x=r_data['acous'], y=r_data['nrgy'])\n",
        "\n",
        "print('There is a clear inverse linear relationship between \"nrgy\" and \"acous\":\\n')"
      ]
    },
    {
      "cell_type": "markdown",
      "metadata": {
        "id": "nbztKXTct0Ln"
      },
      "source": [
        "### Looking at popularity summary stats\n"
      ]
    },
    {
      "cell_type": "code",
      "execution_count": 15,
      "metadata": {
        "colab": {
          "base_uri": "https://localhost:8080/"
        },
        "id": "0EeymC-yuFG4",
        "outputId": "3b8cc096-c7d9-42f1-921d-59d865bf3039"
      },
      "outputs": [
        {
          "data": {
            "text/plain": [
              "count    438.000000\n",
              "mean      61.557078\n",
              "std       12.759353\n",
              "min       26.000000\n",
              "25%       54.000000\n",
              "50%       64.000000\n",
              "75%       72.000000\n",
              "max       84.000000\n",
              "Name: pop, dtype: float64"
            ]
          },
          "execution_count": 15,
          "metadata": {},
          "output_type": "execute_result"
        }
      ],
      "source": [
        "#looking at summary statistics/measures of central tendency/spread\n",
        "r_data['pop'].describe()"
      ]
    },
    {
      "cell_type": "markdown",
      "metadata": {
        "id": "K56GdMK1YHkl"
      },
      "source": [
        "Values are likely on a 0 - 100 scale"
      ]
    },
    {
      "cell_type": "code",
      "execution_count": 16,
      "metadata": {
        "colab": {
          "base_uri": "https://localhost:8080/",
          "height": 297
        },
        "id": "cCeaeiGOvPA0",
        "outputId": "64ba78c9-d17e-4a10-e72c-e16c0287a27a"
      },
      "outputs": [
        {
          "data": {
            "text/plain": [
              "<matplotlib.axes._subplots.AxesSubplot at 0x7f314f199be0>"
            ]
          },
          "execution_count": 16,
          "metadata": {},
          "output_type": "execute_result"
        },
        {
          "data": {
            "image/png": "[encoded data removed]",
            "text/plain": [
              "<Figure size 432x288 with 1 Axes>"
            ]
          },
          "metadata": {
            "needs_background": "light"
          },
          "output_type": "display_data"
        }
      ],
      "source": [
        "sns.violinplot(x = r_data ['pop'])"
      ]
    },
    {
      "cell_type": "markdown",
      "metadata": {
        "id": "m2XR5TCiDwo5"
      },
      "source": [
        "Popularity scores being bounded to 100 and mostly distributed near 70 means either the data is a biased sample or there are biases in how popularity is computed. \n"
      ]
    },
    {
      "cell_type": "markdown",
      "metadata": {
        "id": "6qU0wfi_ssjo"
      },
      "source": [
        "### Let's look at the features which correlate with popularity score directly\n"
      ]
    },
    {
      "cell_type": "code",
      "execution_count": 17,
      "metadata": {
        "id": "bOJa65d3qCEg"
      },
      "outputs": [],
      "source": [
        "def feature_plotting(feature_name, target):\n",
        "\n",
        "  colour = np.random.rand(3,)\n",
        "\n",
        "  print('Summary stats for {}:\\n'.format(feature_name) )\n",
        "  print(r_data[feature_name].describe())\n",
        "  plt.show()\n",
        "  print('\\nBoxplot will show us spread and highlight outliers:\\n')\n",
        "  sns.boxplot(x = r_data [feature_name], color = colour)\n",
        "  plt.show()\n",
        "  print('\\nScatterplot will show us relationship between {} and {}:\\n'.format(feature_name, target))\n",
        "  sns.scatterplot(data=r_data,x = r_data[feature_name], y = r_data[target], color = colour)\n",
        "  plt.show()"
      ]
    },
    {
      "cell_type": "code",
      "execution_count": 18,
      "metadata": {
        "colab": {
          "base_uri": "https://localhost:8080/",
          "height": 845
        },
        "id": "p3dmKFcVtsSE",
        "outputId": "9c9d05a4-98ff-4135-b8d4-897f63c78de3"
      },
      "outputs": [
        {
          "name": "stdout",
          "output_type": "stream",
          "text": [
            "Summary stats for spch:\n",
            "\n",
            "count    438.000000\n",
            "mean       5.671233\n",
            "std        5.571392\n",
            "min        2.000000\n",
            "25%        3.000000\n",
            "50%        4.000000\n",
            "75%        6.000000\n",
            "max       47.000000\n",
            "Name: spch, dtype: float64\n",
            "\n",
            "Boxplot will show us spread and highlight outliers:\n",
            "\n"
          ]
        },
        {
          "data": {
            "image/png": "[encoded data removed]",
            "text/plain": [
              "<Figure size 432x288 with 1 Axes>"
            ]
          },
          "metadata": {
            "needs_background": "light"
          },
          "output_type": "display_data"
        },
        {
          "name": "stdout",
          "output_type": "stream",
          "text": [
            "\n",
            "Scatterplot will show us relationship between spch and pop:\n",
            "\n"
          ]
        },
        {
          "data": {
            "image/png": "[encoded data removed]",
            "text/plain": [
              "<Figure size 432x288 with 1 Axes>"
            ]
          },
          "metadata": {
            "needs_background": "light"
          },
          "output_type": "display_data"
        }
      ],
      "source": [
        "feature_plotting('spch', 'pop')"
      ]
    },
    {
      "cell_type": "markdown",
      "metadata": {
        "id": "wWWJtjTQmqzc"
      },
      "source": [
        "Majorly skewed feature with many outliers - an example of dataset noise. Was considered to be dropped but hurt accuracy."
      ]
    },
    {
      "cell_type": "code",
      "execution_count": 19,
      "metadata": {
        "colab": {
          "base_uri": "https://localhost:8080/",
          "height": 845
        },
        "id": "HzeqKI7qZlit",
        "outputId": "40edb958-5ff3-48b7-d832-61babc5a6796"
      },
      "outputs": [
        {
          "name": "stdout",
          "output_type": "stream",
          "text": [
            "Summary stats for val:\n",
            "\n",
            "count    438.000000\n",
            "mean      59.625571\n",
            "std       24.480160\n",
            "min        6.000000\n",
            "25%       42.250000\n",
            "50%       61.000000\n",
            "75%       80.000000\n",
            "max       99.000000\n",
            "Name: val, dtype: float64\n",
            "\n",
            "Boxplot will show us spread and highlight outliers:\n",
            "\n"
          ]
        },
        {
          "data": {
            "image/png": "[encoded data removed]",
            "text/plain": [
              "<Figure size 432x288 with 1 Axes>"
            ]
          },
          "metadata": {
            "needs_background": "light"
          },
          "output_type": "display_data"
        },
        {
          "name": "stdout",
          "output_type": "stream",
          "text": [
            "\n",
            "Scatterplot will show us relationship between val and pop:\n",
            "\n"
          ]
        },
        {
          "data": {
            "image/png": "[encoded data removed]",
            "text/plain": [
              "<Figure size 432x288 with 1 Axes>"
            ]
          },
          "metadata": {
            "needs_background": "light"
          },
          "output_type": "display_data"
        }
      ],
      "source": [
        "feature_plotting('val', 'pop')"
      ]
    },
    {
      "cell_type": "markdown",
      "metadata": {
        "id": "8AjFYy8gnH0j"
      },
      "source": [
        "Scatterplot shows some of the high level of variance in the dataset. Some clustering in the higher regions of each feature though, so still useful. "
      ]
    },
    {
      "attachments": {},
      "cell_type": "markdown",
      "metadata": {
        "id": "ijJLfZ4XAZsC"
      },
      "source": [
        "## Data Pre-processing\n",
        "\n",
        "Making some additional changes to the data for the training stage. In particular, we label encoded the categorical features. One-hot encoding was considered first, but it doesn't work as well for tree-based models because adding a sparse feature vector for each category means that required tree depth is increased by a large factor which introduces error. \n",
        "\n",
        "\n",
        "\n",
        "## Preparing Data\n",
        "\n",
        "Here we apply the final transformations on the data that gave the best results.\n",
        "\n",
        "\n",
        "**log transform**\n",
        "\n",
        "- 'pop' is left skewed, so normalising the distribution means that the DT's leaf splitting decision function is less heavily weighted towards higher values, meaning more even splits.\n",
        "\n",
        "**standardization**\n",
        "\n",
        "- Though DTs are usually not sensitive to monotonic transformations, putting data on the same scale made the decision function slightly less sensitive to outliers. Small difference, but gave better results.\n",
        "\n",
        "\n",
        "**power transform**\n",
        "\n",
        "- Another normalisation that helped stabilise the distributions in the dataset. Helps with the optimisation step of XGBoost and majorly sped up training.\n",
        "\n",
        "\n",
        "**label encoding**\n",
        "\n",
        "- Though one-hot encoding is usually preferred, it harms the performance of DTs by adding sparse features that create unnecessary splits in the data. High category cardinality also an issue as many features are added.\n"
      ]
    },
    {
      "cell_type": "code",
      "execution_count": 134,
      "metadata": {
        "id": "tqhcSVeC_M4U"
      },
      "outputs": [],
      "source": [
        "#importing libraries we will use\n",
        "\n",
        "#data prep\n",
        "from sklearn import preprocessing\n",
        "from imblearn.pipeline import Pipeline\n",
        "from sklearn.preprocessing import FunctionTransformer\n",
        "from sklearn.compose import TransformedTargetRegressor\n",
        "#eval\n",
        "from sklearn.metrics import mean_squared_error\n",
        "from sklearn.model_selection import cross_val_score\n",
        "from sklearn.model_selection import train_test_split\n",
        "#models\n",
        "from sklearn.dummy import DummyRegressor\n",
        "from sklearn.linear_model import LinearRegression\n",
        "from xgboost import XGBRegressor"
      ]
    },
    {
      "cell_type": "code",
      "execution_count": 167,
      "metadata": {
        "id": "SLsFO06gXKwW"
      },
      "outputs": [],
      "source": [
        "def drop_columns(X_train, X_test, column_list, make_copy = False):\n",
        "  #function for dropping specified rows\n",
        "  if make_copy == True:\n",
        "    X_train = copy.deepcopy(X_train)\n",
        "    X_test = copy.deepcopy(X_test)\n",
        "\n",
        "  X_train_dropped = X_train.drop(column_list, axis = 1)\n",
        "  X_test_dropped = X_test.drop(column_list, axis = 1)\n",
        "\n",
        "  return X_train_dropped, X_test_dropped\n",
        "\n",
        "\n",
        "def transform_features(df, columns, transformer_name, transf_dict):\n",
        "  #function for scaling or normalising specified features\n",
        "\n",
        "  if transf_dict is None:\n",
        "\n",
        "    if transformer_name == 'Standard':\n",
        "      transf = preprocessing.StandardScaler()\n",
        "  \n",
        "    elif transformer_name == 'MinMax':\n",
        "     transf = preprocessing.MinMaxScaler()\n",
        "\n",
        "    elif transformer_name == 'Robust':\n",
        "      transf = preprocessing.RobustScaler()\n",
        "  \n",
        "    elif transformer_name == 'PowerTransformer':\n",
        "      transf = preprocessing.PowerTransformer()\n",
        "  \n",
        "    #make a dictionary of the fitted transformer so that we can use training scales for testing data\n",
        "\n",
        "    transf_dict = {}\n",
        "    \n",
        "    for col in columns:\n",
        "      col_transf = copy.deepcopy(transf)\n",
        "      col_transf = col_transf.fit(df[[col]])\n",
        "      df[col] = col_transf.transform(df[[col]])\n",
        "      transf_dict[col] = col_transf\n",
        "\t\n",
        "  else:\n",
        "    for col in columns:\n",
        "      transf = transf_dict.get(col)\n",
        "      df[col] = transf.transform(df[[col]])\n",
        "    \n",
        "    return df\n",
        "\n",
        "  return df, transf_dict #returning dictionary and df with scaled features\n",
        "\n",
        "def label_encoding(X_train, X_test, column):\n",
        "\n",
        "  train_len = len(X_train)\n",
        "  label_encoder = preprocessing.LabelEncoder()\n",
        "\n",
        "  full_data = pd.concat([X_train[column], X_test[column]], axis = 0,ignore_index=True)\n",
        "  \n",
        "  full_data_enc = label_encoder.fit_transform(full_data.values)\n",
        "  \n",
        "  X_train_enc = full_data_enc[:train_len]\n",
        "  X_test_enc = full_data_enc[train_len:]\n",
        "\n",
        "  return X_train_enc, X_test_enc, label_encoder\n",
        "\n",
        "\n",
        "def train_test(train_data, test_data, target,  drop_columns, make_copy = False):\n",
        "  #copies data drops unwanted rows\n",
        "  if make_copy == True:\n",
        "    train_data = copy.deepcopy(train_data)\n",
        "    test_data = copy.deepcopy(test_data)\n",
        "    \n",
        "    y_train = train_data[target]\n",
        "    X_train = train_data.drop([target], axis = 1)\n",
        "\n",
        "    X_test = test_data.drop(drop_columns, axis = 1)\n",
        "    X_train = X_train.drop(drop_columns, axis = 1)\n",
        "\n",
        "    return X_train, y_train, X_test\n",
        "\n",
        "#for evaluation\n",
        "def display_scores(scores, negative_result = False):\n",
        "\n",
        "  if negative_result == True:\n",
        "    scores = np.array([abs(x) for x in scores])\n",
        "\n",
        "  print(\"Scores:\")\n",
        "\n",
        "  for i,score in enumerate(scores):\n",
        "    print('Fold {} - {:.3f}'.format(i, score))\n",
        "\n",
        "  print(\"\\nMean: {:.3f}\".format(scores.mean()))\n",
        "  print(\"Standard deviation: {:.3f}\".format(scores.std()))\n",
        "  print('\\n')\n",
        "\n",
        "def learning_curve(model, X, y, xgb = False):\n",
        "\n",
        "  X_train, X_val, y_train, y_val = train_test_split(X, y, test_size=0.2,random_state=42)\n",
        "  train_errors, val_errors = [], []\n",
        "\n",
        "  if xgb == True:\n",
        "    y_train = y_train.values.ravel()\n",
        "\n",
        "\n",
        "  for m in range(1, X_train.shape[0]):\n",
        "      model.fit(X_train[:m], y_train[:m])\n",
        "      y_train_predict = model.predict(X_train[:m])\n",
        "      y_val_predict = model.predict(X_val)\n",
        "\n",
        "      train_errors.append(mean_squared_error(y_train[:m],y_train_predict))\n",
        "      val_errors.append(mean_squared_error(y_val, y_val_predict))\n",
        "\n",
        "  plt.plot(np.sqrt(train_errors), \"r-+\", linewidth=2, label=\"train\")\n",
        "  plt.plot(np.sqrt(val_errors), \"b-\", linewidth=3, label=\"val\")\n",
        "\n",
        "\n",
        "def plot_learning_curve(model, X, y, xgb = False):\n",
        "\n",
        "  plt.figure(figsize=(6,4), dpi=120)\n",
        "  learning_curve(model, X, y, xgb = xgb)\n",
        "  plt.ylim(top=20);\n",
        "  plt.legend();\n",
        "  plt.xlabel('Training set size');\n",
        "  plt.ylabel('RMSE');\n",
        "\n",
        "\n",
        "def log_transform(x):\n",
        "  return np.log(x)\n",
        "\n",
        "def inverse_transform(x):\n",
        "  return np.exp(x)"
      ]
    },
    {
      "cell_type": "code",
      "execution_count": 168,
      "metadata": {
        "id": "rAlOu1cDMMJN"
      },
      "outputs": [],
      "source": [
        "#data setup \n",
        "\n",
        "dropping_columns = ['Id', 'title']\n",
        "target = 'pop'\n",
        "\n",
        "X_train, y_train, X_test = train_test(r_data, r_data_test, target,  dropping_columns, make_copy = True)\n"
      ]
    },
    {
      "cell_type": "code",
      "execution_count": 169,
      "metadata": {
        "id": "UN9yMVeMWCEo"
      },
      "outputs": [],
      "source": [
        "#data prep\n",
        "\n",
        "#label encoding \n",
        "\n",
        "#artist\n",
        "train_artist_enc, test_artist_enc, artist_encoder = label_encoding(X_train, X_test, 'artist')\n",
        "\n",
        "X_train['artist'] = train_artist_enc\n",
        "X_test['artist'] = test_artist_enc\n",
        "\n",
        "#top genre\n",
        "train_genre_enc, test_genre_enc, genre_encoder = label_encoding(X_train, X_test, 'top genre')\n",
        "\n",
        "X_train['top genre'] = train_genre_enc\n",
        "X_test['top genre'] = test_genre_enc\n",
        "\n",
        "#scaling and transforming conitnuous data\n",
        "cont_data = ['year', 'bpm',\t'nrgy',\t'dnce',\t'dB',\t'live',\t'val', 'dur',\t'acous', 'spch']\n",
        "\n",
        "\n",
        "#Power transforming continuous features\n",
        "X_train, powertf_dict = transform_features(X_train, cont_data, 'PowerTransformer', transf_dict = None)\n",
        "X_test = transform_features(X_test, cont_data, 'PowerTransformer', transf_dict = powertf_dict)\n",
        "\n",
        "#Standardizing continuous features\n",
        "X_train, standard_scalers = transform_features(X_train, cont_data, 'Standard', transf_dict = None)\n",
        "X_test = transform_features(X_test, cont_data, 'Standard', transf_dict = standard_scalers)"
      ]
    },
    {
      "cell_type": "markdown",
      "metadata": {
        "id": "HNRnV5EaAyGu"
      },
      "source": [
        "### Dummy Model"
      ]
    },
    {
      "cell_type": "code",
      "execution_count": 170,
      "metadata": {
        "id": "dhzeMNeJAuwI"
      },
      "outputs": [],
      "source": [
        "#model fitting and prediction\n",
        "dummy_reg = DummyRegressor(strategy = 'median')\n",
        "#log transform target with pipeline\n",
        "dummy_reg = TransformedTargetRegressor(regressor = dummy_reg, func = log_transform, inverse_func = inverse_transform)\n",
        "\n",
        "dummy_reg.fit(X_train, y_train)\n",
        "\n",
        "y_dummy_eval = dummy_reg.predict(X_train)"
      ]
    },
    {
      "cell_type": "code",
      "execution_count": 171,
      "metadata": {
        "colab": {
          "base_uri": "https://localhost:8080/",
          "height": 839
        },
        "id": "EI5dvR5uBheP",
        "outputId": "d485770d-5f1d-4a28-9a7a-3232693beda7"
      },
      "outputs": [
        {
          "name": "stdout",
          "output_type": "stream",
          "text": [
            "Cross Validation\n",
            "Scores:\n",
            "Fold 0 - 14.052\n",
            "Fold 1 - 14.065\n",
            "Fold 2 - 11.870\n",
            "Fold 3 - 11.270\n",
            "Fold 4 - 12.967\n",
            "Fold 5 - 13.053\n",
            "Fold 6 - 13.254\n",
            "Fold 7 - 14.205\n",
            "Fold 8 - 12.263\n",
            "Fold 9 - 12.214\n",
            "\n",
            "Mean: 12.921\n",
            "Standard deviation: 0.956\n",
            "\n",
            "\n",
            "The RMSE of Dummy Regressor is: 12.977\n",
            "\n",
            "Learning Curve for Dummy model:\n",
            "\n"
          ]
        },
        {
          "data": {
            "image/png": "[encoded data removed]",
            "text/plain": [
              "<Figure size 720x480 with 1 Axes>"
            ]
          },
          "metadata": {
            "needs_background": "light"
          },
          "output_type": "display_data"
        }
      ],
      "source": [
        "#model evaluation\n",
        "dummy_rmse = mean_squared_error(y_dummy_eval, y_train, squared = False)\n",
        "\n",
        "\n",
        "dummy_cv_scores = cross_val_score(dummy_reg, X_train, y_train,\n",
        "scoring=\"neg_root_mean_squared_error\", cv=10)\n",
        "\n",
        "\n",
        "print('Cross Validation')\n",
        "display_scores(dummy_cv_scores, negative_result = True)\n",
        "\n",
        "\n",
        "print('The RMSE of Dummy Regressor is: {:.3f}\\n'.format(dummy_rmse))\n",
        "\n",
        "#plotting the learning curve\n",
        "\n",
        "print('Learning Curve for Dummy model:\\n')\n",
        "\n",
        "plot_learning_curve(dummy_reg, X_train, y_train)"
      ]
    },
    {
      "cell_type": "markdown",
      "metadata": {
        "id": "FDq92kS4rFmG"
      },
      "source": [
        "Random model exhibits high bias as expected"
      ]
    },
    {
      "cell_type": "markdown",
      "metadata": {
        "id": "Ys54H5_WoeC8"
      },
      "source": [
        " ### Baseline Model"
      ]
    },
    {
      "cell_type": "code",
      "execution_count": 172,
      "metadata": {
        "id": "wsj_9W1uobRq"
      },
      "outputs": [],
      "source": [
        "#model fitting and prediction\n",
        "lin_reg = LinearRegression()\n",
        "\n",
        "lin_reg = TransformedTargetRegressor(regressor = lin_reg, func = log_transform, inverse_func = inverse_transform)\n",
        "\n",
        "lin_reg.fit(X_train, y_train)\n",
        "\n",
        "y_lin_eval = lin_reg.predict(X_train)"
      ]
    },
    {
      "cell_type": "code",
      "execution_count": 204,
      "metadata": {
        "colab": {
          "base_uri": "https://localhost:8080/",
          "height": 839
        },
        "id": "QquEJThgoyOA",
        "outputId": "02e75795-3c9c-4961-9a27-01587222ac8c"
      },
      "outputs": [
        {
          "name": "stdout",
          "output_type": "stream",
          "text": [
            "Cross Validation\n",
            "Scores:\n",
            "Fold 0 - 12.636\n",
            "Fold 1 - 9.927\n",
            "Fold 2 - 11.011\n",
            "Fold 3 - 8.136\n",
            "Fold 4 - 11.863\n",
            "Fold 5 - 13.953\n",
            "Fold 6 - 10.646\n",
            "Fold 7 - 11.084\n",
            "Fold 8 - 12.794\n",
            "Fold 9 - 9.216\n",
            "\n",
            "Mean: 11.127\n",
            "Standard deviation: 1.669\n",
            "\n",
            "\n",
            "The RMSE of Linear Regression is: 10.781\n",
            "\n",
            "Learning Curve for Linear Regression model:\n",
            "\n"
          ]
        },
        {
          "data": {
            "image/png": "[encoded data removed]",
            "text/plain": [
              "<Figure size 720x480 with 1 Axes>"
            ]
          },
          "metadata": {
            "needs_background": "light"
          },
          "output_type": "display_data"
        }
      ],
      "source": [
        "#model evaluation\n",
        "lin_rmse = mean_squared_error(y_lin_eval, y_train, squared = False)\n",
        "\n",
        "\n",
        "lin_cv_scores = cross_val_score(lin_reg, X_train, y_train,\n",
        "scoring=\"neg_root_mean_squared_error\", cv=10)\n",
        "\n",
        "\n",
        "print('Cross Validation')\n",
        "display_scores(lin_cv_scores, negative_result = True)\n",
        "\n",
        "\n",
        "print('The RMSE of Linear Regression is: {:.3f}\\n'.format(lin_rmse))\n",
        "\n",
        "#plotting the learning curve\n",
        "\n",
        "print('Learning Curve for Linear Regression model:\\n')\n",
        "\n",
        "train_errors = plot_learning_curve(lin_reg, X_train, y_train)"
      ]
    },
    {
      "cell_type": "markdown",
      "metadata": {
        "id": "OGNWpzuTrLAN"
      },
      "source": [
        "LR is underfitting with high bias"
      ]
    },
    {
      "cell_type": "markdown",
      "metadata": {
        "id": "ZQ7oaAxh-bf_"
      },
      "source": [
        "## Final Model: XGBoost Regression\n"
      ]
    },
    {
      "cell_type": "code",
      "execution_count": 183,
      "metadata": {
        "id": "GBlBU_tN0H-t"
      },
      "outputs": [],
      "source": [
        "xgb_reg = XGBRegressor(max_depth=4, n_estimators=120, reg_lambda=2, reg_alpha=1, subsample=0.925, colsample_bytree=0.95, verbosity = 0)\n",
        "\n",
        "xgb_reg = TransformedTargetRegressor(regressor = xgb_reg, func = log_transform, inverse_func = inverse_transform)\n",
        "\n",
        "xgb_reg.fit(X_train, y_train)\n",
        "\n",
        "#model prediction\n",
        "y_pred = xgb_reg.predict(X_test)"
      ]
    },
    {
      "cell_type": "markdown",
      "metadata": {
        "id": "_K3aTviP-h8n"
      },
      "source": [
        "### Model Evaluation"
      ]
    },
    {
      "cell_type": "code",
      "execution_count": 203,
      "metadata": {
        "colab": {
          "base_uri": "https://localhost:8080/",
          "height": 839
        },
        "id": "4VopQFpf80ye",
        "outputId": "384447e4-60d8-4491-d2e5-c0c7b314f328"
      },
      "outputs": [
        {
          "name": "stdout",
          "output_type": "stream",
          "text": [
            "Cross Validation\n",
            "Scores:\n",
            "Fold 0 - 11.958\n",
            "Fold 1 - 8.958\n",
            "Fold 2 - 10.063\n",
            "Fold 3 - 9.747\n",
            "Fold 4 - 13.589\n",
            "Fold 5 - 13.739\n",
            "Fold 6 - 9.615\n",
            "Fold 7 - 10.421\n",
            "Fold 8 - 12.325\n",
            "Fold 9 - 9.191\n",
            "\n",
            "Mean: 10.960\n",
            "Standard deviation: 1.703\n",
            "\n",
            "\n",
            "Learning Curve for XGBoost model:\n",
            "\n",
            "The training RMSE of XGBoost Regression is: 6.733\n",
            "The testing RMSE of XGBoost Regression is  6.71\n"
          ]
        },
        {
          "data": {
            "image/png": "[encoded data removed]",
            "text/plain": [
              "<Figure size 720x480 with 1 Axes>"
            ]
          },
          "metadata": {
            "needs_background": "light"
          },
          "output_type": "display_data"
        }
      ],
      "source": [
        "y_eval = xgb_reg.predict(X_train)\n",
        "\n",
        "xgb_rmse = mean_squared_error(y_train,y_eval, squared = False)\n",
        "\n",
        "\n",
        "xgb_cv_scores = cross_val_score(xgb_reg, X_train, y_train,\n",
        "scoring=\"neg_root_mean_squared_error\", cv=10)\n",
        "\n",
        "\n",
        "print('Cross Validation')\n",
        "display_scores(xgb_cv_scores, negative_result = True)\n",
        "\n",
        "#plotting the learning curve\n",
        "\n",
        "print('Learning Curve for XGBoost model:\\n')\n",
        "\n",
        "plot_learning_curve(xgb_reg, X_train, y_train)\n",
        "\n",
        "\n",
        "\n",
        "print('The training RMSE of XGBoost Regression is: {:.3f}'.format(xgb_rmse))\n",
        "\n",
        "print('The testing RMSE of XGBoost Regression is ', current_best_score)"
      ]
    },
    {
      "cell_type": "markdown",
      "metadata": {
        "id": "9Af7S0NGrX3L"
      },
      "source": [
        "Clear signs of overfitting. Made for best results because of low overall bias but will not generalise well. The trade off is balanced in a way that produced best results by a small margin.\n",
        "\n",
        "Though training and testing scores (based on kaggle result) are similar, testing RMSE is assumed to increase with the second half of testing."
      ]
    },
    {
      "cell_type": "markdown",
      "metadata": {
        "id": "KJJaSHs5qmvg"
      },
      "source": [
        "### Comparisons"
      ]
    },
    {
      "cell_type": "code",
      "execution_count": 219,
      "metadata": {
        "colab": {
          "base_uri": "https://localhost:8080/",
          "height": 624
        },
        "id": "U-qJk9Uj0i0O",
        "outputId": "e6bc9719-49be-47fc-e24f-4813f920890f"
      },
      "outputs": [
        {
          "data": {
            "text/plain": [
              "[Text(0, 0.5, ' Training RMSE'), Text(0.5, 0, 'Model')]"
            ]
          },
          "execution_count": 219,
          "metadata": {},
          "output_type": "execute_result"
        },
        {
          "data": {
            "image/png": "[encoded data removed]",
            "text/plain": [
              "<Figure size 720x720 with 1 Axes>"
            ]
          },
          "metadata": {
            "needs_background": "light"
          },
          "output_type": "display_data"
        }
      ],
      "source": [
        "training_RMSE = [dummy_rmse, lin_rmse, xgb_rmse]\n",
        "training_RMSE = pd.DataFrame({'Dummy Training RMSE':dummy_rmse, 'Linear Regression RMSE':lin_rmse, 'XGBoost RMSE':xgb_rmse}, index = training_RMSE)\n",
        "\n",
        "fig, ax = plt.subplots(figsize = (10,10))\n",
        "sns.barplot(data = training_RMSE)\n",
        "ax.set(xlabel='Model', ylabel=' Training RMSE')"
      ]
    },
    {
      "cell_type": "markdown",
      "metadata": {
        "id": "uX6IiZWsr_4W"
      },
      "source": [
        "XGBoost performs best on training due to overfit."
      ]
    },
    {
      "cell_type": "code",
      "execution_count": 208,
      "metadata": {
        "colab": {
          "base_uri": "https://localhost:8080/",
          "height": 911
        },
        "id": "RTJmP2Bkt2Qv",
        "outputId": "429c3c6d-438c-4d82-ceb5-f585bddd5e06"
      },
      "outputs": [
        {
          "data": {
            "text/plain": [
              "Text(0.5, 0, 'Average CV RMSE')"
            ]
          },
          "execution_count": 208,
          "metadata": {},
          "output_type": "execute_result"
        },
        {
          "data": {
            "image/png": "[encoded data removed]",
            "text/plain": [
              "<Figure size 864x1080 with 1 Axes>"
            ]
          },
          "metadata": {
            "needs_background": "light"
          },
          "output_type": "display_data"
        }
      ],
      "source": [
        "def invert_score(cv_scores):\n",
        "  scores_list = [abs(x) for x in cv_scores]\n",
        "\n",
        "  return np.array(scores_list)\n",
        "\n",
        "cv_comparison_data = pd.DataFrame({'Dummy CV Scores':invert_score(dummy_cv_scores), 'Linear Regression CV Scores':invert_score(lin_cv_scores), 'XGBoost CV Scores':invert_score(xgb_cv_scores)}, index = range(1,11))\n",
        "\n",
        "\n",
        "cv_comparison_data.mean().plot.barh(title = 'Comparing CV Scores of the three models', figsize = (12,15), xlabel = 'Models', ylabel = 'RMSE', color = ['blue', 'orange', 'green'])\n",
        "plt.xlabel('Average CV RMSE')"
      ]
    },
    {
      "cell_type": "markdown",
      "metadata": {
        "id": "NfgKFS3_sG1E"
      },
      "source": [
        "Small difference in mean CV Scores, which are used as better approximation of generalisation. Shows room for improvement for XGBoost."
      ]
    },
    {
      "cell_type": "code",
      "execution_count": 209,
      "metadata": {
        "colab": {
          "base_uri": "https://localhost:8080/",
          "height": 642
        },
        "id": "viA79SqrzNLx",
        "outputId": "5a85d298-caf6-4cc9-f0d0-0976c526ebcc"
      },
      "outputs": [
        {
          "data": {
            "text/plain": [
              "<matplotlib.axes._subplots.AxesSubplot at 0x7f3146c0bdf0>"
            ]
          },
          "execution_count": 209,
          "metadata": {},
          "output_type": "execute_result"
        },
        {
          "data": {
            "image/png": "[encoded data removed]",
            "text/plain": [
              "<Figure size 720x720 with 1 Axes>"
            ]
          },
          "metadata": {
            "needs_background": "light"
          },
          "output_type": "display_data"
        }
      ],
      "source": [
        "cv_comparison_data.plot(kind = 'bar', title = 'Comparing CV Scores of the three models', figsize = (10,10), xlabel = 'Folds', ylabel = 'RMSE')\n"
      ]
    },
    {
      "cell_type": "markdown",
      "metadata": {
        "id": "hlLUdCS4D0KI"
      },
      "source": [
        "\n",
        "Validation Scores for baseline and XGBoost seem close to each other because XGBoost is severely overfitting to the training data, whereas the baseline has fit quite well, but trades variance for bias. LR actually performs better in folds 4 and 5, showing the problem."
      ]
    },
    {
      "cell_type": "markdown",
      "metadata": {
        "id": "JP-4sjVhAc-8"
      },
      "source": [
        "## Conclusion\n",
        "\n",
        "There is definitely room for improvement with the XGBoost model. Though it gave the best result, it shows clear signs of overfitting. Regularisation parameters are needed but it is a delicate balance as we trade variance for bias and risk hurting overall accuracy.\n",
        "\n",
        "Though results could be improved, there is small room for error with a dataset this small and noisy. The kaggle competition standings reflect this, as scores near the top are close to us.\n",
        "\n",
        "\n",
        "\n",
        "## Reflections\n",
        "\n",
        "Much of our time was spent in the process of realising that cutting instances because of outliers or features because of noise and multicollinearity was reducing information that models needed to have any predictive power. It would have been better to spend that time trying to engineer new features so that models would have more to learn from in the small dataset.\n",
        "\n",
        "We also realised that more time should have been spent on regularisation methods and hyperparamers that could help alleviate XGBoost's major overfitting problem.\n",
        "\n",
        "We believe that with enough time, we could have made decent models from other families and formed a balanced ensemble model that could leverage the strengths of different algorithms. This would have meant dealing with overfitting in some model types and underfitting in others, which amounts to a very complex task. Our main idea was to make a large ensemble and average its predictions, and we still believe that this would be the best approach to this problem.\n",
        "\n",
        "\n",
        "With more time, would try more feature engineering/extraction. We tried many things and ended up with the same or worse results, but more EDA could have inspired useful attempts.\n",
        "\n",
        "In the end, the data given made getting a high accuracy unlikely anyway - in other contexts, data acquisition would have been prioritised.\n"
      ]
    },
    {
      "cell_type": "markdown",
      "metadata": {
        "id": "k1QNalRv-j4l"
      },
      "source": [
        "### Uploading predictions"
      ]
    },
    {
      "cell_type": "code",
      "execution_count": 210,
      "metadata": {
        "colab": {
          "base_uri": "https://localhost:8080/",
          "height": 424
        },
        "id": "qlKCEANg-oTA",
        "outputId": "360b2693-2067-4fcf-b7ab-1d8d10c53ec7"
      },
      "outputs": [
        {
          "data": {
            "text/html": [
              "\n",
              "  <div id=\"df-856970c2-7108-4eaa-9fe5-de0127fc73ee\">\n",
              "    <div class=\"colab-df-container\">\n",
              "      <div>\n",
              "<style scoped>\n",
              "    .dataframe tbody tr th:only-of-type {\n",
              "        vertical-align: middle;\n",
              "    }\n",
              "\n",
              "    .dataframe tbody tr th {\n",
              "        vertical-align: top;\n",
              "    }\n",
              "\n",
              "    .dataframe thead th {\n",
              "        text-align: right;\n",
              "    }\n",
              "</style>\n",
              "<table border=\"1\" class=\"dataframe\">\n",
              "  <thead>\n",
              "    <tr style=\"text-align: right;\">\n",
              "      <th></th>\n",
              "      <th>Id</th>\n",
              "      <th>pop</th>\n",
              "    </tr>\n",
              "  </thead>\n",
              "  <tbody>\n",
              "    <tr>\n",
              "      <th>0</th>\n",
              "      <td>454</td>\n",
              "      <td>69.881065</td>\n",
              "    </tr>\n",
              "    <tr>\n",
              "      <th>1</th>\n",
              "      <td>455</td>\n",
              "      <td>70.046501</td>\n",
              "    </tr>\n",
              "    <tr>\n",
              "      <th>2</th>\n",
              "      <td>456</td>\n",
              "      <td>62.196884</td>\n",
              "    </tr>\n",
              "    <tr>\n",
              "      <th>3</th>\n",
              "      <td>457</td>\n",
              "      <td>63.993439</td>\n",
              "    </tr>\n",
              "    <tr>\n",
              "      <th>4</th>\n",
              "      <td>458</td>\n",
              "      <td>47.012543</td>\n",
              "    </tr>\n",
              "    <tr>\n",
              "      <th>...</th>\n",
              "      <td>...</td>\n",
              "      <td>...</td>\n",
              "    </tr>\n",
              "    <tr>\n",
              "      <th>109</th>\n",
              "      <td>563</td>\n",
              "      <td>66.146629</td>\n",
              "    </tr>\n",
              "    <tr>\n",
              "      <th>110</th>\n",
              "      <td>564</td>\n",
              "      <td>65.600372</td>\n",
              "    </tr>\n",
              "    <tr>\n",
              "      <th>111</th>\n",
              "      <td>565</td>\n",
              "      <td>63.910522</td>\n",
              "    </tr>\n",
              "    <tr>\n",
              "      <th>112</th>\n",
              "      <td>566</td>\n",
              "      <td>64.216522</td>\n",
              "    </tr>\n",
              "    <tr>\n",
              "      <th>113</th>\n",
              "      <td>567</td>\n",
              "      <td>67.498100</td>\n",
              "    </tr>\n",
              "  </tbody>\n",
              "</table>\n",
              "<p>114 rows × 2 columns</p>\n",
              "</div>\n",
              "      <button class=\"colab-df-convert\" onclick=\"convertToInteractive('df-856970c2-7108-4eaa-9fe5-de0127fc73ee')\"\n",
              "              title=\"Convert this dataframe to an interactive table.\"\n",
              "              style=\"display:none;\">\n",
              "        \n",
              "  <svg xmlns=\"http://www.w3.org/2000/svg\" height=\"24px\"viewBox=\"0 0 24 24\"\n",
              "       width=\"24px\">\n",
              "    <path d=\"M0 0h24v24H0V0z\" fill=\"none\"/>\n",
              "    <path d=\"M18.56 5.44l.94 2.06.94-2.06 2.06-.94-2.06-.94-.94-2.06-.94 2.06-2.06.94zm-11 1L8.5 8.5l.94-2.06 2.06-.94-2.06-.94L8.5 2.5l-.94 2.06-2.06.94zm10 10l.94 2.06.94-2.06 2.06-.94-2.06-.94-.94-2.06-.94 2.06-2.06.94z\"/><path d=\"M17.41 7.96l-1.37-1.37c-.4-.4-.92-.59-1.43-.59-.52 0-1.04.2-1.43.59L10.3 9.45l-7.72 7.72c-.78.78-.78 2.05 0 2.83L4 21.41c.39.39.9.59 1.41.59.51 0 1.02-.2 1.41-.59l7.78-7.78 2.81-2.81c.8-.78.8-2.07 0-2.86zM5.41 20L4 18.59l7.72-7.72 1.47 1.35L5.41 20z\"/>\n",
              "  </svg>\n",
              "      </button>\n",
              "      \n",
              "  <style>\n",
              "    .colab-df-container {\n",
              "      display:flex;\n",
              "      flex-wrap:wrap;\n",
              "      gap: 12px;\n",
              "    }\n",
              "\n",
              "    .colab-df-convert {\n",
              "      background-color: #E8F0FE;\n",
              "      border: none;\n",
              "      border-radius: 50%;\n",
              "      cursor: pointer;\n",
              "      display: none;\n",
              "      fill: #1967D2;\n",
              "      height: 32px;\n",
              "      padding: 0 0 0 0;\n",
              "      width: 32px;\n",
              "    }\n",
              "\n",
              "    .colab-df-convert:hover {\n",
              "      background-color: #E2EBFA;\n",
              "      box-shadow: 0px 1px 2px rgba(60, 64, 67, 0.3), 0px 1px 3px 1px rgba(60, 64, 67, 0.15);\n",
              "      fill: #174EA6;\n",
              "    }\n",
              "\n",
              "    [theme=dark] .colab-df-convert {\n",
              "      background-color: #3B4455;\n",
              "      fill: #D2E3FC;\n",
              "    }\n",
              "\n",
              "    [theme=dark] .colab-df-convert:hover {\n",
              "      background-color: #434B5C;\n",
              "      box-shadow: 0px 1px 3px 1px rgba(0, 0, 0, 0.15);\n",
              "      filter: drop-shadow(0px 1px 2px rgba(0, 0, 0, 0.3));\n",
              "      fill: #FFFFFF;\n",
              "    }\n",
              "  </style>\n",
              "\n",
              "      <script>\n",
              "        const buttonEl =\n",
              "          document.querySelector('#df-856970c2-7108-4eaa-9fe5-de0127fc73ee button.colab-df-convert');\n",
              "        buttonEl.style.display =\n",
              "          google.colab.kernel.accessAllowed ? 'block' : 'none';\n",
              "\n",
              "        async function convertToInteractive(key) {\n",
              "          const element = document.querySelector('#df-856970c2-7108-4eaa-9fe5-de0127fc73ee');\n",
              "          const dataTable =\n",
              "            await google.colab.kernel.invokeFunction('convertToInteractive',\n",
              "                                                     [key], {});\n",
              "          if (!dataTable) return;\n",
              "\n",
              "          const docLinkHtml = 'Like what you see? Visit the ' +\n",
              "            '<a target=\"_blank\" href=https://colab.research.google.com/notebooks/data_table.ipynb>data table notebook</a>'\n",
              "            + ' to learn more about interactive tables.';\n",
              "          element.innerHTML = '';\n",
              "          dataTable['output_type'] = 'display_data';\n",
              "          await google.colab.output.renderOutput(dataTable, element);\n",
              "          const docLink = document.createElement('div');\n",
              "          docLink.innerHTML = docLinkHtml;\n",
              "          element.appendChild(docLink);\n",
              "        }\n",
              "      </script>\n",
              "    </div>\n",
              "  </div>\n",
              "  "
            ],
            "text/plain": [
              "      Id        pop\n",
              "0    454  69.881065\n",
              "1    455  70.046501\n",
              "2    456  62.196884\n",
              "3    457  63.993439\n",
              "4    458  47.012543\n",
              "..   ...        ...\n",
              "109  563  66.146629\n",
              "110  564  65.600372\n",
              "111  565  63.910522\n",
              "112  566  64.216522\n",
              "113  567  67.498100\n",
              "\n",
              "[114 rows x 2 columns]"
            ]
          },
          "execution_count": 210,
          "metadata": {},
          "output_type": "execute_result"
        }
      ],
      "source": [
        "predictions = pd.DataFrame(data = y_pred, columns = ['pop'])\n",
        "\n",
        "id = pd.DataFrame(data = r_data_test['Id'], columns = ['Id'])\n",
        "predictions = pd.merge(id, predictions, right_index = True, left_index = True)\n",
        "\n",
        "predictions\n",
        "\n",
        "# predictions.to_csv('spotify_regression.csv', index=False)"
      ]
    }
  ],
  "metadata": {
    "colab": {
      "provenance": []
    },
    "kernelspec": {
      "display_name": "Python 3",
      "language": "python",
      "name": "python3"
    },
    "language_info": {
      "name": "python",
      "version": "3.9.6"
    },
    "vscode": {
      "interpreter": {
        "hash": "31f2aee4e71d21fbe5cf8b01ff0e069b9275f58929596ceb00d14d90e3e16cd6"
      }
    }
  },
  "nbformat": 4,
  "nbformat_minor": 0
}
